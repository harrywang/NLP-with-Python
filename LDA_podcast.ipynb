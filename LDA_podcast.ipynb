{
 "cells": [
  {
   "cell_type": "markdown",
   "metadata": {},
   "source": [
    "podcast data: each csv is an episode and each line is a sentence from the transcript"
   ]
  },
  {
   "cell_type": "code",
   "execution_count": 131,
   "metadata": {},
   "outputs": [],
   "source": [
    "import pandas as pd\n",
    "\n",
    "data = pd.read_csv('data/podcast1.csv', error_bad_lines=False);\n",
    "documents = data[['headline']]"
   ]
  },
  {
   "cell_type": "code",
   "execution_count": 132,
   "metadata": {},
   "outputs": [
    {
     "output_type": "execute_result",
     "data": {
      "text/plain": "142"
     },
     "metadata": {},
     "execution_count": 132
    }
   ],
   "source": [
    "len(documents)"
   ]
  },
  {
   "cell_type": "code",
   "execution_count": 133,
   "metadata": {},
   "outputs": [
    {
     "output_type": "execute_result",
     "data": {
      "text/plain": "                                            headline\n0                                        Let's face.\n1               It podcasting is a booming business.\n2  I have information that I want the world to he...\n3                                    Well good news.\n4              I found the answer anchor anchor dot.",
      "text/html": "<div>\n<style scoped>\n    .dataframe tbody tr th:only-of-type {\n        vertical-align: middle;\n    }\n\n    .dataframe tbody tr th {\n        vertical-align: top;\n    }\n\n    .dataframe thead th {\n        text-align: right;\n    }\n</style>\n<table border=\"1\" class=\"dataframe\">\n  <thead>\n    <tr style=\"text-align: right;\">\n      <th></th>\n      <th>headline</th>\n    </tr>\n  </thead>\n  <tbody>\n    <tr>\n      <th>0</th>\n      <td>Let's face.</td>\n    </tr>\n    <tr>\n      <th>1</th>\n      <td>It podcasting is a booming business.</td>\n    </tr>\n    <tr>\n      <th>2</th>\n      <td>I have information that I want the world to he...</td>\n    </tr>\n    <tr>\n      <th>3</th>\n      <td>Well good news.</td>\n    </tr>\n    <tr>\n      <th>4</th>\n      <td>I found the answer anchor anchor dot.</td>\n    </tr>\n  </tbody>\n</table>\n</div>"
     },
     "metadata": {},
     "execution_count": 133
    }
   ],
   "source": [
    "documents[:5]"
   ]
  },
  {
   "cell_type": "markdown",
   "metadata": {},
   "source": [
    "### Data Preprocessing"
   ]
  },
  {
   "cell_type": "code",
   "execution_count": 134,
   "metadata": {},
   "outputs": [],
   "source": [
    "import gensim\n",
    "from gensim.utils import simple_preprocess\n",
    "from gensim.parsing.preprocessing import STOPWORDS\n",
    "from nltk.stem import WordNetLemmatizer, SnowballStemmer\n",
    "from nltk.stem.porter import *\n",
    "import numpy as np\n",
    "np.random.seed(42)"
   ]
  },
  {
   "cell_type": "code",
   "execution_count": 135,
   "metadata": {
    "tags": []
   },
   "outputs": [
    {
     "output_type": "stream",
     "name": "stderr",
     "text": "[nltk_data] Downloading package wordnet to\n[nltk_data]     /Users/harrywang/nltk_data...\n[nltk_data]   Package wordnet is already up-to-date!\n"
    },
    {
     "output_type": "execute_result",
     "data": {
      "text/plain": "True"
     },
     "metadata": {},
     "execution_count": 135
    }
   ],
   "source": [
    "import nltk\n",
    "nltk.download('wordnet')"
   ]
  },
  {
   "cell_type": "code",
   "execution_count": 136,
   "metadata": {},
   "outputs": [],
   "source": [
    "def lemmatize_stemming(text):\n",
    "    return stemmer.stem(WordNetLemmatizer().lemmatize(text, pos='v'))\n",
    "\n",
    "def preprocess(text):\n",
    "    result = []\n",
    "    for token in gensim.utils.simple_preprocess(text):\n",
    "        if token not in gensim.parsing.preprocessing.STOPWORDS and len(token) > 3:\n",
    "            result.append(lemmatize_stemming(token))\n",
    "    return result"
   ]
  },
  {
   "cell_type": "code",
   "execution_count": 137,
   "metadata": {
    "tags": []
   },
   "outputs": [
    {
     "output_type": "stream",
     "name": "stdout",
     "text": "CPU times: user 46.5 ms, sys: 2.26 ms, total: 48.7 ms\nWall time: 70.5 ms\n"
    }
   ],
   "source": [
    "%%time\n",
    "processed_docs = documents['headline'].map(preprocess)"
   ]
  },
  {
   "cell_type": "code",
   "execution_count": 138,
   "metadata": {},
   "outputs": [
    {
     "output_type": "execute_result",
     "data": {
      "text/plain": "0                                               [face]\n1                                [podcast, boom, busi]\n2    [inform, want, world, hear, want, outrag, fee,...\n3                                         [good, news]\n4                             [answer, anchor, anchor]\n5    [anchor, creat, content, distribut, free, worl...\n6            [record, add, pay, play, listen, audienc]\n7    [record, host, guest, music, bumper, track, im...\n8    [want, creat, podcast, budget, expens, studio,...\n9    [work, match, respons, listen, audienc, pay, p...\nName: headline, dtype: object"
     },
     "metadata": {},
     "execution_count": 138
    }
   ],
   "source": [
    "processed_docs[:10]"
   ]
  },
  {
   "cell_type": "markdown",
   "metadata": {},
   "source": [
    "### Bag of words on the dataset"
   ]
  },
  {
   "cell_type": "code",
   "execution_count": 139,
   "metadata": {},
   "outputs": [],
   "source": [
    "dictionary = gensim.corpora.Dictionary(processed_docs)"
   ]
  },
  {
   "cell_type": "code",
   "execution_count": 140,
   "metadata": {
    "tags": []
   },
   "outputs": [
    {
     "output_type": "stream",
     "name": "stdout",
     "text": "0 face\n1 boom\n2 busi\n3 podcast\n4 charg\n5 distributor\n6 fee\n7 hear\n8 inform\n9 outrag\n10 want\n"
    }
   ],
   "source": [
    "count = 0\n",
    "for k, v in dictionary.iteritems():\n",
    "    print(k, v)\n",
    "    count += 1\n",
    "    if count > 10:\n",
    "        break"
   ]
  },
  {
   "cell_type": "code",
   "execution_count": 141,
   "metadata": {},
   "outputs": [],
   "source": [
    "# skip this for podcast\n",
    "# filtering tokens\n",
    "#less than 15 documents (absolute number) or\n",
    "#more than 0.5 documents (fraction of total corpus size, not absolute number).\n",
    "#after the above two steps, keep only the first 100000 most frequent tokens.\n",
    "\n",
    "#dictionary.filter_extremes(no_below=15, no_above=0.5, keep_n=100000)"
   ]
  },
  {
   "cell_type": "code",
   "execution_count": 142,
   "metadata": {},
   "outputs": [],
   "source": [
    "bow_corpus = [dictionary.doc2bow(doc) for doc in processed_docs]"
   ]
  },
  {
   "cell_type": "code",
   "execution_count": 143,
   "metadata": {
    "tags": []
   },
   "outputs": [
    {
     "output_type": "stream",
     "name": "stdout",
     "text": "Word 4 (\"charg\") appears 1 time.\nWord 5 (\"distributor\") appears 1 time.\nWord 6 (\"fee\") appears 1 time.\nWord 7 (\"hear\") appears 1 time.\nWord 8 (\"inform\") appears 1 time.\nWord 9 (\"outrag\") appears 1 time.\nWord 10 (\"want\") appears 2 time.\nWord 11 (\"world\") appears 1 time.\n"
    }
   ],
   "source": [
    "bow_doc_2 = bow_corpus[2]\n",
    "\n",
    "for i in range(len(bow_doc_2)):\n",
    "    print(\"Word {} (\\\"{}\\\") appears {} time.\".format(bow_doc_2[i][0], \n",
    "                                                     dictionary[bow_doc_2[i][0]], \n",
    "                                                     bow_doc_2[i][1]))"
   ]
  },
  {
   "cell_type": "markdown",
   "metadata": {},
   "source": [
    "### TF-IDF"
   ]
  },
  {
   "cell_type": "code",
   "execution_count": 144,
   "metadata": {
    "tags": []
   },
   "outputs": [],
   "source": [
    "from gensim import corpora, models\n",
    "\n",
    "tfidf = models.TfidfModel(bow_corpus)"
   ]
  },
  {
   "cell_type": "code",
   "execution_count": 145,
   "metadata": {},
   "outputs": [],
   "source": [
    "corpus_tfidf = tfidf[bow_corpus]"
   ]
  },
  {
   "cell_type": "code",
   "execution_count": 146,
   "metadata": {
    "tags": []
   },
   "outputs": [
    {
     "output_type": "stream",
     "name": "stdout",
     "text": "[(0, 1.0)]\n"
    }
   ],
   "source": [
    "from pprint import pprint\n",
    "\n",
    "for doc in corpus_tfidf:\n",
    "    pprint(doc)\n",
    "    break"
   ]
  },
  {
   "cell_type": "markdown",
   "metadata": {},
   "source": [
    "### Running LDA using Bag of Words"
   ]
  },
  {
   "cell_type": "code",
   "execution_count": 147,
   "metadata": {
    "tags": []
   },
   "outputs": [
    {
     "output_type": "stream",
     "name": "stdout",
     "text": "CPU times: user 196 ms, sys: 39.6 ms, total: 235 ms\nWall time: 863 ms\n"
    }
   ],
   "source": [
    "%%time\n",
    "lda_model = gensim.models.LdaMulticore(bow_corpus, num_topics=5, id2word=dictionary, passes=2, workers=2)"
   ]
  },
  {
   "cell_type": "code",
   "execution_count": 148,
   "metadata": {
    "tags": []
   },
   "outputs": [
    {
     "output_type": "stream",
     "name": "stdout",
     "text": "Topic: 0 \nWords: 0.022*\"babylonian\" + 0.020*\"king\" + 0.017*\"string\" + 0.015*\"music\" + 0.013*\"languag\" + 0.013*\"sound\" + 0.012*\"nebuchadnezzar\" + 0.012*\"imag\" + 0.012*\"worship\" + 0.012*\"second\"\nTopic: 1 \nWords: 0.020*\"string\" + 0.019*\"note\" + 0.017*\"instrument\" + 0.015*\"like\" + 0.012*\"list\" + 0.011*\"music\" + 0.011*\"look\" + 0.010*\"liar\" + 0.010*\"play\" + 0.010*\"anchor\"\nTopic: 2 \nWords: 0.022*\"podcast\" + 0.017*\"music\" + 0.015*\"broadcast\" + 0.013*\"anchor\" + 0.011*\"note\" + 0.011*\"import\" + 0.010*\"cuneiform\" + 0.010*\"worship\" + 0.010*\"record\" + 0.009*\"time\"\nTopic: 3 \nWords: 0.026*\"music\" + 0.012*\"understand\" + 0.012*\"instrument\" + 0.012*\"number\" + 0.011*\"know\" + 0.011*\"imag\" + 0.010*\"chapter\" + 0.010*\"bibl\" + 0.010*\"king\" + 0.009*\"like\"\nTopic: 4 \nWords: 0.019*\"string\" + 0.018*\"instrument\" + 0.018*\"mode\" + 0.015*\"go\" + 0.014*\"copi\" + 0.010*\"fourth\" + 0.010*\"node\" + 0.009*\"tune\" + 0.009*\"like\" + 0.008*\"today\"\n"
    }
   ],
   "source": [
    "for idx, topic in lda_model.print_topics(-1):\n",
    "    print('Topic: {} \\nWords: {}'.format(idx, topic))"
   ]
  },
  {
   "cell_type": "markdown",
   "metadata": {},
   "source": [
    "Cool! Can you distinguish different topics using the words in each topic and their corresponding weights?"
   ]
  },
  {
   "cell_type": "markdown",
   "metadata": {},
   "source": [
    "### Running LDA using TF-IDF"
   ]
  },
  {
   "cell_type": "code",
   "execution_count": 149,
   "metadata": {
    "tags": []
   },
   "outputs": [
    {
     "output_type": "stream",
     "name": "stdout",
     "text": "CPU times: user 139 ms, sys: 31 ms, total: 170 ms\nWall time: 473 ms\n"
    }
   ],
   "source": [
    "%%time\n",
    "lda_model_tfidf = gensim.models.LdaMulticore(corpus_tfidf, num_topics=5, id2word=dictionary, passes=2, workers=4)"
   ]
  },
  {
   "cell_type": "code",
   "execution_count": 150,
   "metadata": {
    "tags": []
   },
   "outputs": [
    {
     "output_type": "stream",
     "name": "stdout",
     "text": "Topic: 0 Word: 0.009*\"yeshua\" + 0.008*\"podcast\" + 0.008*\"anchor\" + 0.007*\"copi\" + 0.007*\"babylonian\" + 0.006*\"spirit\" + 0.006*\"tuna\" + 0.006*\"amen\" + 0.006*\"fourth\" + 0.006*\"shall\"\nTopic: 1 Word: 0.009*\"string\" + 0.008*\"imag\" + 0.008*\"final\" + 0.007*\"fall\" + 0.007*\"worship\" + 0.006*\"fifth\" + 0.006*\"liar\" + 0.006*\"kadosh\" + 0.006*\"music\" + 0.006*\"akaka\"\nTopic: 2 Word: 0.009*\"time\" + 0.008*\"understand\" + 0.007*\"opportun\" + 0.007*\"nation\" + 0.007*\"face\" + 0.007*\"gain\" + 0.006*\"broadcast\" + 0.006*\"donat\" + 0.006*\"radio\" + 0.006*\"scale\"\nTopic: 3 Word: 0.014*\"manuscript\" + 0.009*\"mode\" + 0.007*\"like\" + 0.007*\"matter\" + 0.007*\"generat\" + 0.006*\"joyous\" + 0.006*\"thing\" + 0.006*\"triton\" + 0.006*\"follow\" + 0.006*\"note\"\nTopic: 4 Word: 0.008*\"string\" + 0.007*\"strength\" + 0.007*\"nebuchadnezzar\" + 0.007*\"king\" + 0.007*\"look\" + 0.006*\"answer\" + 0.006*\"list\" + 0.006*\"beauti\" + 0.006*\"centuri\" + 0.006*\"think\"\n"
    }
   ],
   "source": [
    "for idx, topic in lda_model_tfidf.print_topics(-1):\n",
    "    print('Topic: {} Word: {}'.format(idx, topic))"
   ]
  },
  {
   "cell_type": "markdown",
   "metadata": {},
   "source": [
    "### Classification of the topics"
   ]
  },
  {
   "cell_type": "markdown",
   "metadata": {},
   "source": [
    "### Performance evaluation by classifying sample document using LDA Bag of Words model"
   ]
  },
  {
   "cell_type": "code",
   "execution_count": 151,
   "metadata": {},
   "outputs": [
    {
     "output_type": "execute_result",
     "data": {
      "text/plain": "['inform',\n 'want',\n 'world',\n 'hear',\n 'want',\n 'outrag',\n 'fee',\n 'distributor',\n 'charg']"
     },
     "metadata": {},
     "execution_count": 151
    }
   ],
   "source": [
    "processed_docs[2]"
   ]
  },
  {
   "cell_type": "code",
   "execution_count": 152,
   "metadata": {
    "tags": []
   },
   "outputs": [
    {
     "output_type": "stream",
     "name": "stdout",
     "text": "\nScore: 0.9195331931114197\t \nTopic: 0.020*\"string\" + 0.019*\"note\" + 0.017*\"instrument\" + 0.015*\"like\" + 0.012*\"list\" + 0.011*\"music\" + 0.011*\"look\" + 0.010*\"liar\" + 0.010*\"play\" + 0.010*\"anchor\"\n\nScore: 0.02022414468228817\t \nTopic: 0.022*\"babylonian\" + 0.020*\"king\" + 0.017*\"string\" + 0.015*\"music\" + 0.013*\"languag\" + 0.013*\"sound\" + 0.012*\"nebuchadnezzar\" + 0.012*\"imag\" + 0.012*\"worship\" + 0.012*\"second\"\n\nScore: 0.02012956328690052\t \nTopic: 0.022*\"podcast\" + 0.017*\"music\" + 0.015*\"broadcast\" + 0.013*\"anchor\" + 0.011*\"note\" + 0.011*\"import\" + 0.010*\"cuneiform\" + 0.010*\"worship\" + 0.010*\"record\" + 0.009*\"time\"\n\nScore: 0.020068539306521416\t \nTopic: 0.019*\"string\" + 0.018*\"instrument\" + 0.018*\"mode\" + 0.015*\"go\" + 0.014*\"copi\" + 0.010*\"fourth\" + 0.010*\"node\" + 0.009*\"tune\" + 0.009*\"like\" + 0.008*\"today\"\n\nScore: 0.020044509321451187\t \nTopic: 0.026*\"music\" + 0.012*\"understand\" + 0.012*\"instrument\" + 0.012*\"number\" + 0.011*\"know\" + 0.011*\"imag\" + 0.010*\"chapter\" + 0.010*\"bibl\" + 0.010*\"king\" + 0.009*\"like\"\n"
    }
   ],
   "source": [
    "for index, score in sorted(lda_model[bow_corpus[2]], key=lambda tup: -1*tup[1]):\n",
    "    print(\"\\nScore: {}\\t \\nTopic: {}\".format(score, lda_model.print_topic(index, 10)))"
   ]
  },
  {
   "cell_type": "markdown",
   "metadata": {},
   "source": [
    "Our test document has the highest probability to be part of the topic on the top."
   ]
  },
  {
   "cell_type": "markdown",
   "metadata": {},
   "source": [
    "### Performance evaluation by classifying sample document using LDA TF-IDF model"
   ]
  },
  {
   "cell_type": "code",
   "execution_count": 153,
   "metadata": {
    "tags": []
   },
   "outputs": [
    {
     "output_type": "stream",
     "name": "stdout",
     "text": "\nScore: 0.9195690155029297\t \nTopic: 0.009*\"string\" + 0.008*\"imag\" + 0.008*\"final\" + 0.007*\"fall\" + 0.007*\"worship\" + 0.006*\"fifth\" + 0.006*\"liar\" + 0.006*\"kadosh\" + 0.006*\"music\" + 0.006*\"akaka\"\n\nScore: 0.020143453031778336\t \nTopic: 0.009*\"time\" + 0.008*\"understand\" + 0.007*\"opportun\" + 0.007*\"nation\" + 0.007*\"face\" + 0.007*\"gain\" + 0.006*\"broadcast\" + 0.006*\"donat\" + 0.006*\"radio\" + 0.006*\"scale\"\n\nScore: 0.020101875066757202\t \nTopic: 0.008*\"string\" + 0.007*\"strength\" + 0.007*\"nebuchadnezzar\" + 0.007*\"king\" + 0.007*\"look\" + 0.006*\"answer\" + 0.006*\"list\" + 0.006*\"beauti\" + 0.006*\"centuri\" + 0.006*\"think\"\n\nScore: 0.0200973991304636\t \nTopic: 0.009*\"yeshua\" + 0.008*\"podcast\" + 0.008*\"anchor\" + 0.007*\"copi\" + 0.007*\"babylonian\" + 0.006*\"spirit\" + 0.006*\"tuna\" + 0.006*\"amen\" + 0.006*\"fourth\" + 0.006*\"shall\"\n\nScore: 0.020088206976652145\t \nTopic: 0.014*\"manuscript\" + 0.009*\"mode\" + 0.007*\"like\" + 0.007*\"matter\" + 0.007*\"generat\" + 0.006*\"joyous\" + 0.006*\"thing\" + 0.006*\"triton\" + 0.006*\"follow\" + 0.006*\"note\"\n"
    }
   ],
   "source": [
    "for index, score in sorted(lda_model_tfidf[bow_corpus[2]], key=lambda tup: -1*tup[1]):\n",
    "    print(\"\\nScore: {}\\t \\nTopic: {}\".format(score, lda_model_tfidf.print_topic(index, 10)))"
   ]
  },
  {
   "cell_type": "markdown",
   "metadata": {},
   "source": [
    "Our test document has the highest probability to be part of the topic on the top."
   ]
  },
  {
   "cell_type": "markdown",
   "metadata": {},
   "source": [
    "### Testing model on unseen document"
   ]
  },
  {
   "cell_type": "code",
   "execution_count": 154,
   "metadata": {
    "tags": []
   },
   "outputs": [
    {
     "output_type": "stream",
     "name": "stdout",
     "text": "Score: 0.4102005958557129\t Topic: 0.022*\"podcast\" + 0.017*\"music\" + 0.015*\"broadcast\" + 0.013*\"anchor\" + 0.011*\"note\"\nScore: 0.38971903920173645\t Topic: 0.020*\"string\" + 0.019*\"note\" + 0.017*\"instrument\" + 0.015*\"like\" + 0.012*\"list\"\nScore: 0.06670007854700089\t Topic: 0.019*\"string\" + 0.018*\"instrument\" + 0.018*\"mode\" + 0.015*\"go\" + 0.014*\"copi\"\nScore: 0.0666906014084816\t Topic: 0.026*\"music\" + 0.012*\"understand\" + 0.012*\"instrument\" + 0.012*\"number\" + 0.011*\"know\"\nScore: 0.06668967008590698\t Topic: 0.022*\"babylonian\" + 0.020*\"king\" + 0.017*\"string\" + 0.015*\"music\" + 0.013*\"languag\"\n"
    }
   ],
   "source": [
    "unseen_document = 'How a Pentagon deal became an identity crisis for Google'\n",
    "bow_vector = dictionary.doc2bow(preprocess(unseen_document))\n",
    "\n",
    "for index, score in sorted(lda_model[bow_vector], key=lambda tup: -1*tup[1]):\n",
    "    print(\"Score: {}\\t Topic: {}\".format(score, lda_model.print_topic(index, 5)))"
   ]
  }
 ],
 "metadata": {
  "kernelspec": {
   "display_name": "Python 3.7.6 64-bit ('venv': venv)",
   "language": "python",
   "name": "python_defaultSpec_1598387632287"
  },
  "language_info": {
   "codemirror_mode": {
    "name": "ipython",
    "version": 3
   },
   "file_extension": ".py",
   "mimetype": "text/x-python",
   "name": "python",
   "nbconvert_exporter": "python",
   "pygments_lexer": "ipython3",
   "version": "3.7.6-final"
  }
 },
 "nbformat": 4,
 "nbformat_minor": 2
}